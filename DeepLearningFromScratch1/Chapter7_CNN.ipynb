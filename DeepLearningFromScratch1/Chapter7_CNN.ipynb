{
 "cells": [
  {
   "cell_type": "markdown",
   "metadata": {},
   "source": [
    "# Chapter 7 : CNN\n",
    "\n",
    "convolutional neural network - 이미지 인식과 음성 인식 등등"
   ]
  },
  {
   "cell_type": "markdown",
   "metadata": {},
   "source": [
    "Affine 계층만 있었던 neural network에서 \n",
    "\n",
    "힙성곱 계층 (convolution kayer), 폴링 계층 (pooling layer) 계층도 추가됨.\n",
    "\n",
    "(Conv - ReLU - Pooling)   or   (Conv - ReLU) 로 구성되며 Poling은 생략가능\n"
   ]
  },
  {
   "cell_type": "markdown",
   "metadata": {},
   "source": []
  }
 ],
 "metadata": {
  "language_info": {
   "name": "python"
  }
 },
 "nbformat": 4,
 "nbformat_minor": 2
}

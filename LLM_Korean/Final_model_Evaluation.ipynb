{
 "cells": [
  {
   "cell_type": "markdown",
   "metadata": {},
   "source": [
    "# Base model generate test\n",
    "\n",
    "4bit 양자화 사용하여 모델 로드, device_map=\"auto\" (gpu 설정)"
   ]
  },
  {
   "cell_type": "code",
   "execution_count": 1,
   "metadata": {},
   "outputs": [
    {
     "name": "stderr",
     "output_type": "stream",
     "text": [
      "The `load_in_4bit` and `load_in_8bit` arguments are deprecated and will be removed in the future versions. Please, pass a `BitsAndBytesConfig` object in `quantization_config` argument instead.\n"
     ]
    },
    {
     "data": {
      "application/vnd.jupyter.widget-view+json": {
       "model_id": "f55017273e4e4b089adf5edd2947e998",
       "version_major": 2,
       "version_minor": 0
      },
      "text/plain": [
       "Loading checkpoint shards:   0%|          | 0/4 [00:00<?, ?it/s]"
      ]
     },
     "metadata": {},
     "output_type": "display_data"
    },
    {
     "name": "stderr",
     "output_type": "stream",
     "text": [
      "Special tokens have been added in the vocabulary, make sure the associated word embeddings are fine-tuned or trained.\n"
     ]
    }
   ],
   "source": [
    "from peft import PeftModel, PeftConfig\n",
    "from transformers import AutoModelForCausalLM, AutoTokenizer\n",
    "\n",
    "model = AutoModelForCausalLM.from_pretrained(\"beomi/Llama-3-Open-Ko-8B-Instruct-preview\", load_in_4bit=True, device_map=\"auto\")\n",
    "tokenizer = AutoTokenizer.from_pretrained(\"beomi/Llama-3-Open-Ko-8B-Instruct-preview\")"
   ]
  },
  {
   "cell_type": "code",
   "execution_count": 12,
   "metadata": {},
   "outputs": [
    {
     "name": "stdout",
     "output_type": "stream",
     "text": [
      "Here is a sentence generated using the given concept set: \"The delicious pork ribs with a savory sauce and a bowl of spicy noodles is a great combination for a meal, especially when you add a side of spicy stir-fried pork and a bowl of cold noodles at a reasonable price.\"\n"
     ]
    }
   ],
   "source": [
    "def generate_response(prompt, model):\n",
    "    messages = [\n",
    "        {\"role\": \"user\", \"content\": f\"{prompt}\"},\n",
    "    ]\n",
    "\n",
    "    input_ids = tokenizer.apply_chat_template(\n",
    "        messages,\n",
    "        add_generation_prompt=True,\n",
    "        return_tensors=\"pt\"\n",
    "    ).to(model.device)\n",
    "\n",
    "    terminators = [\n",
    "        tokenizer.eos_token_id,\n",
    "        tokenizer.convert_tokens_to_ids(\"<|eot_id|>\")\n",
    "    ]\n",
    "\n",
    "    outputs = model.generate(\n",
    "        input_ids,\n",
    "        max_new_tokens=512,\n",
    "        eos_token_id=terminators,\n",
    "        do_sample=True,\n",
    "        temperature=0.2,\n",
    "        top_p=0.9,\n",
    "        pad_token_id=tokenizer.eos_token_id\n",
    "    )\n",
    "    response = outputs[0][input_ids.shape[-1]:]\n",
    "    print(tokenizer.decode(response, skip_special_tokens=True))\n",
    "\n",
    "\n",
    "prompt = \"### instruction:주어진 개념 세트를 이용하여 문장을 생성하세요. ### input:개념 세트: 먹, 돼지갈비, 비빔냉면, 비쌌, 맛있, 가격 ### Response:\"\n",
    "\n",
    "generate_response(prompt, model)"
   ]
  },
  {
   "cell_type": "code",
   "execution_count": 13,
   "metadata": {},
   "outputs": [
    {
     "name": "stdout",
     "output_type": "stream",
     "text": [
      "Here is a sentence using the given concept set: \"There are various ways to enjoy frozen dumplings, such as eating them with a dipping sauce, using them as a topping, or even freezing them for later use.\"\n"
     ]
    }
   ],
   "source": [
    "prompt = \"### instruction:주어진 개념 세트를 이용하여 문장을 생성하세요. ### input:개념 세트: 있, 추천, 활용, 찌개, 냉동 게 ### Response:\"\n",
    "\n",
    "generate_response(prompt, model)"
   ]
  },
  {
   "cell_type": "code",
   "execution_count": 14,
   "metadata": {},
   "outputs": [
    {
     "name": "stdout",
     "output_type": "stream",
     "text": [
      "Here is a generated sentence using the given concept set: \"Bonus, Story, Company, and Many\"!\n",
      "\n",
      "\"Many companies offer bonuses as a way to boost employee morale and productivity, which often leads to a great story.\"\n"
     ]
    }
   ],
   "source": [
    "prompt = \"### instruction:주어진 개념 세트를 이용하여 문장을 생성하세요. ### input:개념 세트: 보너스, 이야기, 기업, 나온다고, 많이 ### Response:\"\n",
    "\n",
    "generate_response(prompt, model)"
   ]
  },
  {
   "cell_type": "code",
   "execution_count": 15,
   "metadata": {},
   "outputs": [
    {
     "name": "stdout",
     "output_type": "stream",
     "text": [
      "Here is a sentence generated using the given concept set: \"There is a dual monitor on a computer desk.\"\n"
     ]
    }
   ],
   "source": [
    "prompt = \"### instruction:주어진 개념 세트를 이용하여 문장을 생성하세요. ### input:개념 세트: 이, 있, 이중 모니터, 컴퓨터 책상 위 ### Response:\"\n",
    "\n",
    "generate_response(prompt, model)"
   ]
  },
  {
   "cell_type": "code",
   "execution_count": 16,
   "metadata": {},
   "outputs": [
    {
     "name": "stdout",
     "output_type": "stream",
     "text": [
      "Here is a sentence using the given concept set: \"My mom gave me a snack of shrimp-flavored crackers and a cherry as a treat.\"\n"
     ]
    }
   ],
   "source": [
    "prompt = \"### instruction:주어진 개념 세트를 이용하여 문장을 생성하세요. ### input:개념 세트: 샀, 오징어 다리 과자, 엄마 안주, 체리 ### Response:\"\n",
    "\n",
    "generate_response(prompt, model)"
   ]
  },
  {
   "cell_type": "code",
   "execution_count": 17,
   "metadata": {},
   "outputs": [
    {
     "name": "stdout",
     "output_type": "stream",
     "text": [
      "Here is a sentence generated using the concept set: \"There is a truck in front of the old warehouse.\"\n"
     ]
    }
   ],
   "source": [
    "prompt = \"### instruction:주어진 개념 세트를 이용하여 문장을 생성하세요. ### input:개념 세트: 있, 한, 창고 앞 도로, 낡, 트럭 ### Response:\"\n",
    "\n",
    "generate_response(prompt, model)"
   ]
  },
  {
   "cell_type": "code",
   "execution_count": 18,
   "metadata": {},
   "outputs": [
    {
     "name": "stdout",
     "output_type": "stream",
     "text": [
      "Here is a sentence generated using the given concept set:\n",
      "\n",
      "\"병원 서류를 작성하는 것이 필요하다.\" \n",
      "\n",
      "Please note that the difficulty level of the sentence is \"어렵\" and the purpose is \"보험금 청구\" for the story.\n"
     ]
    }
   ],
   "source": [
    "prompt = \"### instruction:주어진 개념 세트를 이용하여 문장을 생성하세요. ### input:개념 세트: 병원 서류, 이야기, 어렵, 위해, 보험금 청구, 필요 ### Response:\"\n",
    "\n",
    "generate_response(prompt, model)"
   ]
  },
  {
   "cell_type": "markdown",
   "metadata": {},
   "source": [
    "# Fine-tuned model test\n",
    "\n",
    "train history 출력"
   ]
  },
  {
   "cell_type": "code",
   "execution_count": 2,
   "metadata": {},
   "outputs": [
    {
     "data": {
      "image/png": "[encoded data removed]",
      "text/plain": [
       "<Figure size 1000x500 with 1 Axes>"
      ]
     },
     "metadata": {},
     "output_type": "display_data"
    }
   ],
   "source": [
    "import pandas as pd\n",
    "import matplotlib.pyplot as plt\n",
    "\n",
    "df = pd.read_json(\"C:\\\\Users\\\\Gamzadole\\\\Downloads\\\\drive-download-20240709T192446Z-001\\\\trainer_log_history.json\")\n",
    "\n",
    "train_loss = df ['loss'].dropna()\n",
    "val_loss = df ['eval_loss'].dropna()\n",
    "\n",
    "epochs = range(1, len(train_loss) + 1)\n",
    "\n",
    "plt.figure(figsize=(10, 5))\n",
    "plt.plot(epochs, train_loss, label='Training Loss')\n",
    "plt.plot(epochs, val_loss, label='Validation Loss')\n",
    "plt.xlabel('Epochs')\n",
    "plt.ylabel('Loss')\n",
    "plt.title('Training and Validation Loss')\n",
    "plt.legend()\n",
    "plt.grid(True)\n",
    "plt.show()"
   ]
  },
  {
   "cell_type": "markdown",
   "metadata": {},
   "source": [
    "4bit 양자화 하여 베이스 모델 로드하기, LoRA로 파인튜닝한 모델을 PeftModel.from_pretrained로 함꺠 합쳐 로드 "
   ]
  },
  {
   "cell_type": "code",
   "execution_count": 1,
   "metadata": {},
   "outputs": [
    {
     "name": "stderr",
     "output_type": "stream",
     "text": [
      "The `load_in_4bit` and `load_in_8bit` arguments are deprecated and will be removed in the future versions. Please, pass a `BitsAndBytesConfig` object in `quantization_config` argument instead.\n"
     ]
    },
    {
     "data": {
      "application/vnd.jupyter.widget-view+json": {
       "model_id": "d7f9c564a5e2468b98c529514982157c",
       "version_major": 2,
       "version_minor": 0
      },
      "text/plain": [
       "Loading checkpoint shards:   0%|          | 0/4 [00:00<?, ?it/s]"
      ]
     },
     "metadata": {},
     "output_type": "display_data"
    },
    {
     "name": "stderr",
     "output_type": "stream",
     "text": [
      "Special tokens have been added in the vocabulary, make sure the associated word embeddings are fine-tuned or trained.\n"
     ]
    }
   ],
   "source": [
    "from peft import PeftModel, PeftConfig\n",
    "from transformers import AutoModelForCausalLM, AutoTokenizer\n",
    "\n",
    "config = PeftConfig.from_pretrained(\"gamzadole/llama3_Commonsense_Reasoning\")\n",
    "base_model = AutoModelForCausalLM.from_pretrained(\"beomi/Llama-3-Open-Ko-8B-Instruct-preview\", device_map=\"auto\", load_in_4bit=True)\n",
    "model = PeftModel.from_pretrained(base_model, \"gamzadole/llama3_Commonsense_Reasoning\")\n",
    "tokenizer = AutoTokenizer.from_pretrained(\"gamzadole/llama3_Commonsense_Reasoning\")"
   ]
  },
  {
   "cell_type": "code",
   "execution_count": 2,
   "metadata": {},
   "outputs": [
    {
     "name": "stderr",
     "output_type": "stream",
     "text": [
      "The attention mask is not set and cannot be inferred from input because pad token is same as eos token.As a consequence, you may observe unexpected behavior. Please pass your input's `attention_mask` to obtain reliable results.\n",
      "c:\\Users\\Gamzadole\\anaconda3\\envs\\tf\\lib\\site-packages\\bitsandbytes\\nn\\modules.py:426: UserWarning: Input type into Linear4bit is torch.float16, but bnb_4bit_compute_dtype=torch.float32 (default). This will lead to slow inference or training speed.\n",
      "  warnings.warn(\n",
      "c:\\Users\\Gamzadole\\anaconda3\\envs\\tf\\lib\\site-packages\\transformers\\models\\llama\\modeling_llama.py:648: UserWarning: 1Torch was not compiled with flash attention. (Triggered internally at ..\\aten\\src\\ATen\\native\\transformers\\cuda\\sdp_utils.cpp:455.)\n",
      "  attn_output = torch.nn.functional.scaled_dot_product_attention(\n"
     ]
    },
    {
     "name": "stdout",
     "output_type": "stream",
     "text": [
      "비빔냉면과 돼지갈비를 먹는데 비쌌지만 맛있었다. 가격이 비쌌지만 비빔냉면과 돼지갈비는 맛있었다.\n"
     ]
    }
   ],
   "source": [
    "def generate_response(prompt, model):\n",
    "    messages = [\n",
    "        {\"role\": \"user\", \"content\": f\"{prompt}\"},\n",
    "    ]\n",
    "\n",
    "    input_ids = tokenizer.apply_chat_template(\n",
    "        messages,\n",
    "        add_generation_prompt=True,\n",
    "        return_tensors=\"pt\"\n",
    "    ).to(model.device)\n",
    "\n",
    "    terminators = [\n",
    "        tokenizer.eos_token_id,\n",
    "        tokenizer.convert_tokens_to_ids(\"<|eot_id|>\")\n",
    "    ]\n",
    "\n",
    "    outputs = model.generate(\n",
    "        input_ids,\n",
    "        max_new_tokens=512,\n",
    "        eos_token_id=terminators,\n",
    "        do_sample=True,\n",
    "        temperature=0.2,\n",
    "        top_p=0.9,\n",
    "        pad_token_id=tokenizer.eos_token_id\n",
    "    )\n",
    "    response = outputs[0][input_ids.shape[-1]:]\n",
    "    print(tokenizer.decode(response, skip_special_tokens=True))\n",
    "\n",
    "\n",
    "prompt = \"### instruction:주어진 개념 세트를 이용하여 문장을 생성하세요. ### input:개념 세트: 먹, 돼지갈비, 비빔냉면, 비쌌, 맛있, 가격 ### Response:\"\n",
    "\n",
    "generate_response(prompt, model)"
   ]
  },
  {
   "cell_type": "markdown",
   "metadata": {},
   "source": [
    "Dataset에서 랜덤 선택하여 응답출력"
   ]
  },
  {
   "cell_type": "code",
   "execution_count": 3,
   "metadata": {},
   "outputs": [
    {
     "name": "stdout",
     "output_type": "stream",
     "text": [
      "냉동 게를 추천하고 있지만, 찌개를 활용하여 요리할 수 있다.\n"
     ]
    }
   ],
   "source": [
    "prompt = \"### instruction:주어진 개념 세트를 이용하여 문장을 생성하세요. ### input:개념 세트: 있, 추천, 활용, 찌개, 냉동 게 ### Response:\"\n",
    "\n",
    "generate_response(prompt, model)"
   ]
  },
  {
   "cell_type": "code",
   "execution_count": 4,
   "metadata": {},
   "outputs": [
    {
     "name": "stdout",
     "output_type": "stream",
     "text": [
      "기업에서 보너스를 많이 나온다고 이야기한다.\n"
     ]
    }
   ],
   "source": [
    "prompt = \"### instruction:주어진 개념 세트를 이용하여 문장을 생성하세요. ### input:개념 세트: 보너스, 이야기, 기업, 나온다고, 많이 ### Response:\"\n",
    "\n",
    "generate_response(prompt, model)"
   ]
  },
  {
   "cell_type": "code",
   "execution_count": 5,
   "metadata": {},
   "outputs": [
    {
     "name": "stdout",
     "output_type": "stream",
     "text": [
      "이중 모니터가 컴퓨터 책상 위에 있어요.\n"
     ]
    }
   ],
   "source": [
    "prompt = \"### instruction:주어진 개념 세트를 이용하여 문장을 생성하세요. ### input:개념 세트: 이, 있, 이중 모니터, 컴퓨터 책상 위 ### Response:\"\n",
    "\n",
    "generate_response(prompt, model)"
   ]
  },
  {
   "cell_type": "code",
   "execution_count": 6,
   "metadata": {},
   "outputs": [
    {
     "name": "stdout",
     "output_type": "stream",
     "text": [
      "체리와 오징어 다리 과자를 샀는데 엄마 안주라고 하셨다.\n"
     ]
    }
   ],
   "source": [
    "prompt = \"### instruction:주어진 개념 세트를 이용하여 문장을 생성하세요. ### input:개념 세트: 샀, 오징어 다리 과자, 엄마 안주, 체리 ### Response:\"\n",
    "\n",
    "generate_response(prompt, model)"
   ]
  },
  {
   "cell_type": "code",
   "execution_count": 7,
   "metadata": {},
   "outputs": [
    {
     "name": "stdout",
     "output_type": "stream",
     "text": [
      "트럭이 한 창고 앞 도로에 낡아서 있다.\n"
     ]
    }
   ],
   "source": [
    "prompt = \"### instruction:주어진 개념 세트를 이용하여 문장을 생성하세요. ### input:개념 세트: 있, 한, 창고 앞 도로, 낡, 트럭 ### Response:\"\n",
    "\n",
    "generate_response(prompt, model)"
   ]
  },
  {
   "cell_type": "code",
   "execution_count": 8,
   "metadata": {},
   "outputs": [
    {
     "name": "stdout",
     "output_type": "stream",
     "text": [
      "보험금 청구를 위해 병원 서류가 필요하다고 이야기하는데 어렵다.\n"
     ]
    }
   ],
   "source": [
    "prompt = \"### instruction:주어진 개념 세트를 이용하여 문장을 생성하세요. ### input:개념 세트: 병원 서류, 이야기, 어렵, 위해, 보험금 청구, 필요 ### Response:\"\n",
    "\n",
    "generate_response(prompt, model)"
   ]
  },
  {
   "cell_type": "markdown",
   "metadata": {},
   "source": [
    "데이터셋에 없는 input에 대한 출력"
   ]
  },
  {
   "cell_type": "code",
   "execution_count": 4,
   "metadata": {},
   "outputs": [
    {
     "name": "stdout",
     "output_type": "stream",
     "text": [
      "야구 선수가 2달간 부상으로 인해 병원에 휴식을 취하고 있다.\n"
     ]
    }
   ],
   "source": [
    "prompt = \"### instruction:주어진 개념 세트를 이용하여 문장을 생성하세요. ### input:개념 세트: 야구 선수, 부상, 병원, 2달, 휴식 ### Response:\"\n",
    "\n",
    "generate_response(prompt, model)"
   ]
  },
  {
   "cell_type": "code",
   "execution_count": 7,
   "metadata": {},
   "outputs": [
    {
     "name": "stdout",
     "output_type": "stream",
     "text": [
      "A+와 B+를 기대했지만 공부를 잘하지 않아 실망스럽다.\n"
     ]
    }
   ],
   "source": [
    "prompt = \"### instruction:주어진 개념 세트를 이용하여 문장을 생성하세요. ### input:개념 세트: 전공, 과목 , 기대, A+, B+, 실망, 공부, 다짐 ### Response:\"\n",
    "\n",
    "generate_response(prompt, model)"
   ]
  },
  {
   "cell_type": "code",
   "execution_count": 17,
   "metadata": {},
   "outputs": [
    {
     "name": "stdout",
     "output_type": "stream",
     "text": [
      "시험을 잘 쳐서 좋은 성적을 맞았다고 행운이라고 한다.\n"
     ]
    }
   ],
   "source": [
    "prompt = \"### instruction:주어진 개념 세트를 이용하여 문장을 생성하세요. ### input:개념 세트: 시험, 어려, 찍어, 맞았다, 좋은 성적, 행운 ### Response:\"\n",
    "\n",
    "generate_response(prompt, model)"
   ]
  },
  {
   "cell_type": "code",
   "execution_count": 20,
   "metadata": {},
   "outputs": [
    {
     "name": "stdout",
     "output_type": "stream",
     "text": [
      "여전히 에어컨이 고장 나서 선풍기만 돌아가고 집이 더워 있다.\n"
     ]
    }
   ],
   "source": [
    "prompt = \"### instruction:주어진 개념 세트를 이용하여 문장을 생성하세요. ### input:개념 세트: 집, 더워, 에어컨, 고장, 선풍기, 여전히  ### Response:\"\n",
    "\n",
    "generate_response(prompt, model)"
   ]
  },
  {
   "cell_type": "code",
   "execution_count": 35,
   "metadata": {},
   "outputs": [
    {
     "name": "stdout",
     "output_type": "stream",
     "text": [
      "여행 중 친구가 덥다며 불평하고 다른 맛집에 가자고 하지만, 웨이팅이 길어서 싸우고 있다며 화나하고 있다. 다른 친구는 먹다 말고 다른 곳에 가자고 하지만, 이 친구는 맛이 없다며 짜증을 내고 있다.\n"
     ]
    }
   ],
   "source": [
    "prompt = \"### instruction:주어진 개념 세트를 이용하여 문장을 생성하세요. ### input:개념 세트: 친구, 여행, 덥다, 불평, 짜증, 맛집, 웨이팅, 다른, 먹다, 맛 없다, 싸우다, 화나다  ### Response:\"\n",
    "\n",
    "generate_response(prompt, model)"
   ]
  },
  {
   "cell_type": "code",
   "execution_count": 38,
   "metadata": {},
   "outputs": [
    {
     "name": "stdout",
     "output_type": "stream",
     "text": [
      "주어진 개념 세트를 이용하여 문장을 생성합니다.\n"
     ]
    }
   ],
   "source": [
    "prompt = \"주어진 개념 세트를 이용하여 문장을 생성하세요. 개념 세트: 시험, 어려, 찍어, 맞았다, 좋은 성적, 행운\"\n",
    "\n",
    "generate_response(prompt, model)"
   ]
  },
  {
   "cell_type": "code",
   "execution_count": 48,
   "metadata": {},
   "outputs": [
    {
     "name": "stdout",
     "output_type": "stream",
     "text": [
      "주어진 단어를 이용하여 문장을 생성합니다.\n"
     ]
    }
   ],
   "source": [
    "prompt = \"단어 몇개를 나열할테니 단어가 들어가는 문장 생성해봐 전공, 과목 , 기대, A+, B+, 실망, 공부, 다짐\"\n",
    "\n",
    "generate_response(prompt, model)"
   ]
  },
  {
   "cell_type": "code",
   "execution_count": 49,
   "metadata": {},
   "outputs": [
    {
     "name": "stdout",
     "output_type": "stream",
     "text": [
      "주어진 단어를 이용하여 문장을 생성해드리겠습니다. 단어는 \"전공\", \"과목\", \"기대\", \"A+\", \"B+\", \"공부\", \"다짐\"입니다. 다음은 문장입니다. \"전공과목에 A+와 B+를 기대하고 공부를 다짐한다.\"입니다.\n"
     ]
    }
   ],
   "source": [
    "prompt = \"단어 몇개를 나열할테니 단어가 들어가는 문장 생성해봐 전공, 과목 , 기대, A+, B+, 실망, 공부, 다짐\"\n",
    "\n",
    "generate_response(prompt, model)"
   ]
  }
 ],
 "metadata": {
  "kernelspec": {
   "display_name": "tf",
   "language": "python",
   "name": "python3"
  },
  "language_info": {
   "codemirror_mode": {
    "name": "ipython",
    "version": 3
   },
   "file_extension": ".py",
   "mimetype": "text/x-python",
   "name": "python",
   "nbconvert_exporter": "python",
   "pygments_lexer": "ipython3",
   "version": "3.10.14"
  }
 },
 "nbformat": 4,
 "nbformat_minor": 2
}

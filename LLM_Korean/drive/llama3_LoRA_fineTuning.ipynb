{
 "cells": [
  {
   "cell_type": "markdown",
   "metadata": {},
   "source": [
    "# LLAMA3 Fine-Tuning using LoRA"
   ]
  },
  {
   "cell_type": "code",
   "execution_count": 1,
   "metadata": {},
   "outputs": [
    {
     "name": "stdout",
     "output_type": "stream",
     "text": [
      "The token has not been saved to the git credentials helper. Pass `add_to_git_credential=True` in this function directly or `--add-to-git-credential` if using via `huggingface-cli` if you want to set the git credential as well.\n",
      "Token is valid (permission: read).\n",
      "Your token has been saved to C:\\Users\\Gamzadole\\.cache\\huggingface\\token\n",
      "Login successful\n"
     ]
    }
   ],
   "source": [
    "import huggingface_hub\n",
    "\n",
    "ACCESS_TOKEN = \"\"\n",
    "huggingface_hub.login(ACCESS_TOKEN)"
   ]
  },
  {
   "cell_type": "code",
   "execution_count": 2,
   "metadata": {},
   "outputs": [],
   "source": [
    "# 모델과 데이터셋\n",
    "\n",
    "base_model = \"beomi/Llama-3-Open-Ko-8B\"\n",
    "\n",
    "kr_dataset = \"Bingsu/ko_alpaca_data\""
   ]
  },
  {
   "cell_type": "code",
   "execution_count": 3,
   "metadata": {},
   "outputs": [],
   "source": [
    "# 필요 라이브러리\n",
    "import os\n",
    "import torch\n",
    "import transformers\n",
    "from datasets import load_from_disk\n",
    "from transformers import (\n",
    "    BitsAndBytesConfig,\n",
    "    AutoModelForCausalLM,\n",
    "    AutoTokenizer,\n",
    "    Trainer,\n",
    "    TextStreamer,\n",
    "    pipeline\n",
    ")\n",
    "from peft import (\n",
    "    LoraConfig,\n",
    "    prepare_model_for_kbit_training,\n",
    "    get_peft_model,\n",
    "    get_peft_model_state_dict,\n",
    "    set_peft_model_state_dict,\n",
    "    TaskType,\n",
    "    PeftModel\n",
    ")\n",
    "from trl import SFTTrainer"
   ]
  },
  {
   "cell_type": "code",
   "execution_count": null,
   "metadata": {},
   "outputs": [
    {
     "name": "stderr",
     "output_type": "stream",
     "text": [
      "The `load_in_4bit` and `load_in_8bit` arguments are deprecated and will be removed in the future versions. Please, pass a `BitsAndBytesConfig` object in `quantization_config` argument instead.\n"
     ]
    },
    {
     "data": {
      "application/vnd.jupyter.widget-view+json": {
       "model_id": "88683b9a73d749839c6e6aa609c80a08",
       "version_major": 2,
       "version_minor": 0
      },
      "text/plain": [
       "Loading checkpoint shards:   0%|          | 0/6 [00:00<?, ?it/s]"
      ]
     },
     "metadata": {},
     "output_type": "display_data"
    },
    {
     "name": "stderr",
     "output_type": "stream",
     "text": [
      "Special tokens have been added in the vocabulary, make sure the associated word embeddings are fine-tuned or trained.\n"
     ]
    }
   ],
   "source": [
    "# \"beomi/Llama-3-Open-Ko-8B\" 의 model과 tokenizer 가져오기\n",
    "\n",
    "model = AutoModelForCausalLM.from_pretrained(base_model, load_in_4bit=True, device_map=\"auto\")\n",
    "\n",
    "tokenizer = AutoTokenizer.from_pretrained(base_model)\n",
    "tokenizer.pad_token = tokenizer.eos_token\n",
    "tokenizer.padding_side = \"right\""
   ]
  },
  {
   "cell_type": "code",
   "execution_count": 5,
   "metadata": {},
   "outputs": [
    {
     "name": "stderr",
     "output_type": "stream",
     "text": [
      "c:\\Users\\Gamzadole\\anaconda3\\envs\\tf\\lib\\site-packages\\bitsandbytes\\nn\\modules.py:426: UserWarning: Input type into Linear4bit is torch.float16, but bnb_4bit_compute_dtype=torch.float32 (default). This will lead to slow inference or training speed.\n",
      "  warnings.warn(\n",
      "c:\\Users\\Gamzadole\\anaconda3\\envs\\tf\\lib\\site-packages\\transformers\\models\\llama\\modeling_llama.py:649: UserWarning: 1Torch was not compiled with flash attention. (Triggered internally at ..\\aten\\src\\ATen\\native\\transformers\\cuda\\sdp_utils.cpp:455.)\n",
      "  attn_output = torch.nn.functional.scaled_dot_product_attention(\n"
     ]
    },
    {
     "name": "stdout",
     "output_type": "stream",
     "text": [
      "<|begin_of_text|> 첫 번째는요?<|end_of_text|><|begin_of_text|><|begin_of_text|>아울러 신차를 구매할 때 무이자 할부와 보증금 없이 저스탑 레이스를 운영하는 등 다양한 할부방식을 실시하고 있다. 또 보험처리 가능하고 신용카드 결제도 가능해 구매 고객들의 선택의 폭이 넓혀졌다.<|end_of_text|> 이와 관련, 전일 5개 신문들은 '정상회담 대화록 실종 사건의 전말'이란 제목을 뽑아 다음과 같은 추궁 기사들을 보도했다.\n",
      " ①(동아일보) 정상회담 대화록 대통령기록관 무단반출 누군일까…원본 폐기 논란 재점화.\n",
      "  ②(조선일보) 대통령기록관이 대화록을 왜 몰래 빼돌렸나.\n",
      "  ③(한경·서울) 정상회담 대화록이 대통령기록관에 있었나?.\n",
      "  ④(한겨레) ‘임기 중 기록물은 대통령 재임 시 무기한 보존’ 국정원 입.\n",
      "  ⑤(한국) ‘대화록 없었다’ 국정원 해명 “대화록 폐기” vs 대통령기록관 “이전 없었다”(본지 보도).\n",
      " 이들 5개 신문은 원론적으로는 대화록 원본의 존재 여부와 대화록이 대통령기록관으로 이관된 사실이 없다는 국정원의 해명이 맞는지 의문을 제기한 보도들이었다.\n",
      " 물론 당시(2012년 3월) 열린 정상회담 개최 직전 청와대 이지원시스템은 물론 비고시 행정관들이 관리하고 있던 자료에서도 모두 대화록이 발견되지 않아 원본은 어디에도 존재하지 않은 것 아니냐는 의혹도 제기했다.\n",
      " 그러나 정부가 대화록을 원천적으로 국정원으로 넘겼다면 대화록은 국정원의 통제 하에 있었던 상황이다.\n",
      " 즉 당시 정권은 대통령기록관이 아닌 국정원에서 대화록을 관리해왔다.\n",
      " 청와대 이지원시스템에 존재하지 않았다는 것 자체가 대화록이 국정원에 있었음을 암시한다.\n",
      " 국정원도 이를 부인하고 있지 않다.\n",
      " 국정원은 대화\n"
     ]
    }
   ],
   "source": [
    "prompt = \"건강을 유지하기 위한 세 가지 팁을 알려주세요.\"\n",
    "\n",
    "encoded_input = tokenizer(prompt,  return_tensors=\"pt\", add_special_tokens=True)\n",
    "model_inputs = encoded_input.to('cuda')\n",
    "\n",
    "generated_ids = model.generate(**model_inputs, max_new_tokens=512, do_sample=True, pad_token_id=tokenizer.eos_token_id)\n",
    "\n",
    "decoded_output = tokenizer.batch_decode(generated_ids)\n",
    "\n",
    "print(decoded_output[0].replace(prompt, \"\"))"
   ]
  },
  {
   "cell_type": "code",
   "execution_count": 4,
   "metadata": {},
   "outputs": [],
   "source": [
    "import os\n",
    "import torch\n",
    "import transformers\n",
    "import pandas as pd\n",
    "from datasets import load_dataset, Dataset, concatenate_datasets\n",
    "from transformers import AutoModelForCausalLM, AutoTokenizer"
   ]
  },
  {
   "cell_type": "code",
   "execution_count": 5,
   "metadata": {},
   "outputs": [
    {
     "data": {
      "text/plain": [
       "DatasetDict({\n",
       "    train: Dataset({\n",
       "        features: ['instruction', 'input', 'output'],\n",
       "        num_rows: 49620\n",
       "    })\n",
       "})"
      ]
     },
     "execution_count": 5,
     "metadata": {},
     "output_type": "execute_result"
    }
   ],
   "source": [
    "# dataset 가져오기\n",
    "dataset_koalpaca = load_dataset(kr_dataset)\n",
    "dataset_koalpaca"
   ]
  },
  {
   "cell_type": "code",
   "execution_count": 6,
   "metadata": {},
   "outputs": [
    {
     "data": {
      "text/plain": [
       "{'instruction': '건강을 유지하기 위한 세 가지 팁을 알려주세요.',\n",
       " 'input': '',\n",
       " 'output': '세 가지 팁은 아침식사를 꼭 챙기며, 충분한 수면을 취하고, 적극적으로 운동을 하는 것입니다.'}"
      ]
     },
     "execution_count": 6,
     "metadata": {},
     "output_type": "execute_result"
    }
   ],
   "source": [
    "dataset_koalpaca['train'][0]"
   ]
  },
  {
   "cell_type": "code",
   "execution_count": 7,
   "metadata": {},
   "outputs": [
    {
     "name": "stdout",
     "output_type": "stream",
     "text": [
      "{'instruction': '건강을 유지하기 위한 세 가지 팁을 알려주세요.', 'input': '', 'output': '세 가지 팁은 아침식사를 꼭 챙기며, 충분한 수면을 취하고, 적극적으로 운동을 하는 것입니다.'}\n"
     ]
    }
   ],
   "source": [
    "# 데이터프레임으로 변환\n",
    "df_koalpaca = pd.DataFrame(dataset_koalpaca['train'])\n",
    "\n",
    "# 중복 제거\n",
    "df_koalpaca = df_koalpaca.drop_duplicates(keep='first', ignore_index=True)\n",
    "\n",
    "# HuggingFace Dataset 형태로 변환\n",
    "dataset_koalpaca = Dataset.from_pandas(df_koalpaca)\n",
    "\n",
    "print(dataset_koalpaca[0])"
   ]
  },
  {
   "cell_type": "markdown",
   "metadata": {},
   "source": [
    "## Instruction prompt template"
   ]
  },
  {
   "cell_type": "code",
   "execution_count": 8,
   "metadata": {},
   "outputs": [],
   "source": [
    "prompt_input_template = \"\"\"\n",
    "### Instruction : {instruction}\n",
    "\n",
    "### Input: {input}\n",
    "\n",
    "### output: {output}\"\"\""
   ]
  },
  {
   "cell_type": "code",
   "execution_count": 9,
   "metadata": {},
   "outputs": [
    {
     "data": {
      "application/vnd.jupyter.widget-view+json": {
       "model_id": "08a0f137baff4af4a6ba9685eece0023",
       "version_major": 2,
       "version_minor": 0
      },
      "text/plain": [
       "Map:   0%|          | 0/1 [00:00<?, ? examples/s]"
      ]
     },
     "metadata": {},
     "output_type": "display_data"
    }
   ],
   "source": [
    "def generate_prompt(data_point):\n",
    "  instruction = data_point[\"instruction\"]\n",
    "  input = data_point[\"input\"]\n",
    "  output = data_point[\"output\"]\n",
    "\n",
    "  res = prompt_input_template.format(instruction=instruction, input=input, output=output)\n",
    "\n",
    "  data_point['text'] = res\n",
    "\n",
    "  return data_point\n",
    "\n",
    "# 데이터셋에 프롬프트 적용\n",
    "remove_column_keys = dataset_koalpaca.features.keys() # 기존 컬럼(instruction, output 등) 제거\n",
    "dataset_cvted = dataset_koalpaca.select(range(1)).map(generate_prompt, remove_columns=remove_column_keys)"
   ]
  },
  {
   "cell_type": "code",
   "execution_count": 10,
   "metadata": {},
   "outputs": [
    {
     "name": "stdout",
     "output_type": "stream",
     "text": [
      "\n",
      "### Instruction : 건강을 유지하기 위한 세 가지 팁을 알려주세요.\n",
      "\n",
      "### Input: \n",
      "\n",
      "### output: 세 가지 팁은 아침식사를 꼭 챙기며, 충분한 수면을 취하고, 적극적으로 운동을 하는 것입니다.\n"
     ]
    },
    {
     "data": {
      "text/plain": [
       "Dataset({\n",
       "    features: ['text'],\n",
       "    num_rows: 1\n",
       "})"
      ]
     },
     "execution_count": 10,
     "metadata": {},
     "output_type": "execute_result"
    }
   ],
   "source": [
    "for i in range(1):\n",
    "    if \"건강\" in dataset_cvted[i][\"text\"]:\n",
    "        print(dataset_cvted[i][\"text\"])\n",
    "\n",
    "dataset_cvted"
   ]
  },
  {
   "cell_type": "code",
   "execution_count": 11,
   "metadata": {},
   "outputs": [
    {
     "data": {
      "application/vnd.jupyter.widget-view+json": {
       "model_id": "7c6991800470419d912c884acbebbd7d",
       "version_major": 2,
       "version_minor": 0
      },
      "text/plain": [
       "Loading checkpoint shards:   0%|          | 0/6 [00:00<?, ?it/s]"
      ]
     },
     "metadata": {},
     "output_type": "display_data"
    },
    {
     "name": "stderr",
     "output_type": "stream",
     "text": [
      "Special tokens have been added in the vocabulary, make sure the associated word embeddings are fine-tuned or trained.\n"
     ]
    }
   ],
   "source": [
    "# 양자화 설정 (메모리 절약가능, 빠른 계산이 가능함)\n",
    "quant_config = BitsAndBytesConfig(\n",
    "    load_in_4bit=True,\n",
    "    bnb_4bit_quant_type=\"nf4\",\n",
    "    bnb_4bit_compute_dtype=torch.bfloat16,\n",
    "    bnb_4bit_use_double_quant=False,\n",
    ")\n",
    "\n",
    "# LLAMA3 basemodel의 model, tokenizer 가져오기\n",
    "model = AutoModelForCausalLM.from_pretrained(\n",
    "    base_model,\n",
    "    quantization_config=quant_config,\n",
    "    device_map=\"auto\"\n",
    ")\n",
    "\n",
    "tokenizer = AutoTokenizer.from_pretrained(base_model)\n",
    "tokenizer.pad_token = tokenizer.eos_token"
   ]
  },
  {
   "cell_type": "code",
   "execution_count": 12,
   "metadata": {},
   "outputs": [
    {
     "data": {
      "application/vnd.jupyter.widget-view+json": {
       "model_id": "1ea86634bbbe4dfea1524cb812cf64df",
       "version_major": 2,
       "version_minor": 0
      },
      "text/plain": [
       "Map:   0%|          | 0/1 [00:00<?, ? examples/s]"
      ]
     },
     "metadata": {},
     "output_type": "display_data"
    },
    {
     "name": "stdout",
     "output_type": "stream",
     "text": [
      "{'text': '<|begin_of_text|>\\n### Instruction : 건강을 유지하기 위한 세 가지 팁을 알려주세요.\\n\\n### Input: \\n\\n### output: 세 가지 팁은 아침식사를 꼭 챙기며, 충분한 수면을 취하고, 적극적으로 운동을 하는 것입니다.<|end_of_text|>'}\n"
     ]
    }
   ],
   "source": [
    "# 텍스트의 끝을 알려주기 위해 데이터에 EOS 토큰을 추가함\n",
    "EOS_TOKEN = tokenizer.eos_token\n",
    "def tokenize_function(examples):\n",
    "  examples[\"text\"] = \"<|begin_of_text|>\" + examples[\"text\"] + EOS_TOKEN\n",
    "  return examples\n",
    "\n",
    "dataset_tokenized = dataset_cvted.map(tokenize_function)\n",
    "\n",
    "print(dataset_tokenized[0])"
   ]
  },
  {
   "cell_type": "code",
   "execution_count": 13,
   "metadata": {},
   "outputs": [],
   "source": [
    "# LORA configuration\n",
    "lora_config = LoraConfig(\n",
    "    lora_alpha=16,\n",
    "    lora_dropout=0.1,\n",
    "    r=64,\n",
    "    bias=\"none\",\n",
    "    task_type=\"CAUSAL_LM\",\n",
    ")\n",
    "\n",
    "# GPU 사용에서 cache를 사용하지 않게 함으로써 메모리 절약\n",
    "model.config.use_cache = False\n",
    "model.config.pretraining_tp = 1"
   ]
  },
  {
   "cell_type": "code",
   "execution_count": 14,
   "metadata": {},
   "outputs": [
    {
     "name": "stderr",
     "output_type": "stream",
     "text": [
      "c:\\Users\\Gamzadole\\anaconda3\\envs\\tf\\lib\\site-packages\\huggingface_hub\\utils\\_deprecation.py:100: FutureWarning: Deprecated argument(s) used in '__init__': dataset_text_field. Will not be supported from version '1.0.0'.\n",
      "\n",
      "Deprecated positional argument(s) used in SFTTrainer, please use the SFTConfig to set these arguments instead.\n",
      "  warnings.warn(message, FutureWarning)\n",
      "c:\\Users\\Gamzadole\\anaconda3\\envs\\tf\\lib\\site-packages\\transformers\\training_args.py:1961: FutureWarning: `--push_to_hub_token` is deprecated and will be removed in version 5 of 🤗 Transformers. Use `--hub_token` instead.\n",
      "  warnings.warn(\n",
      "c:\\Users\\Gamzadole\\anaconda3\\envs\\tf\\lib\\site-packages\\trl\\trainer\\sft_trainer.py:278: UserWarning: You didn't pass a `max_seq_length` argument to the SFTTrainer, this will default to 1024\n",
      "  warnings.warn(\n",
      "c:\\Users\\Gamzadole\\anaconda3\\envs\\tf\\lib\\site-packages\\trl\\trainer\\sft_trainer.py:307: UserWarning: You passed a `dataset_text_field` argument to the SFTTrainer, the value you passed will override the one in the `SFTConfig`.\n",
      "  warnings.warn(\n"
     ]
    },
    {
     "data": {
      "application/vnd.jupyter.widget-view+json": {
       "model_id": "216d3584d2394a0ca5ec469f93156469",
       "version_major": 2,
       "version_minor": 0
      },
      "text/plain": [
       "Map:   0%|          | 0/1 [00:00<?, ? examples/s]"
      ]
     },
     "metadata": {},
     "output_type": "display_data"
    },
    {
     "name": "stderr",
     "output_type": "stream",
     "text": [
      "Asking to truncate to max_length but no maximum length is provided and the model has no predefined maximum length. Default to no truncation.\n"
     ]
    }
   ],
   "source": [
    "train_args = transformers.TrainingArguments(\n",
    "    output_dir=\"./results\", # output\n",
    "    num_train_epochs=10, # epoch\n",
    "    per_device_train_batch_size=4, # batch\n",
    "    gradient_accumulation_steps=1, # acculmulator\n",
    "    optim=\"paged_adamw_32bit\", # optimizer\n",
    "    logging_steps=1, # log 출력\n",
    "    learning_rate=2e-4,\n",
    "    weight_decay=0.001,\n",
    "    fp16=False, \n",
    "    bf16=False,\n",
    "    max_grad_norm=0.3,\n",
    "    max_steps=-1, # max_step 설정 X (끝날떄 까지)\n",
    "    warmup_ratio=0.03,\n",
    "    group_by_length=True,\n",
    "    lr_scheduler_type=\"constant\",\n",
    "    report_to=\"tensorboard\"\n",
    ")\n",
    "\n",
    "trainer = SFTTrainer(\n",
    "    model=model,\n",
    "    train_dataset=dataset_tokenized,\n",
    "    args=train_args,\n",
    "    peft_config=lora_config,\n",
    "    dataset_text_field=\"text\",\n",
    "    max_seq_length=None,\n",
    "    tokenizer=tokenizer,\n",
    "    packing=False,\n",
    ")"
   ]
  },
  {
   "cell_type": "code",
   "execution_count": 15,
   "metadata": {},
   "outputs": [
    {
     "data": {
      "application/vnd.jupyter.widget-view+json": {
       "model_id": "1555ce2fdac94c3d9520df32a27e5bfc",
       "version_major": 2,
       "version_minor": 0
      },
      "text/plain": [
       "  0%|          | 0/10 [00:00<?, ?it/s]"
      ]
     },
     "metadata": {},
     "output_type": "display_data"
    },
    {
     "name": "stderr",
     "output_type": "stream",
     "text": [
      "c:\\Users\\Gamzadole\\anaconda3\\envs\\tf\\lib\\site-packages\\transformers\\models\\llama\\modeling_llama.py:648: UserWarning: 1Torch was not compiled with flash attention. (Triggered internally at ..\\aten\\src\\ATen\\native\\transformers\\cuda\\sdp_utils.cpp:455.)\n",
      "  attn_output = torch.nn.functional.scaled_dot_product_attention(\n"
     ]
    },
    {
     "name": "stdout",
     "output_type": "stream",
     "text": [
      "{'loss': 2.6807, 'grad_norm': 0.7231382727622986, 'learning_rate': 0.0002, 'epoch': 1.0}\n",
      "{'loss': 2.5663, 'grad_norm': 0.6585438251495361, 'learning_rate': 0.0002, 'epoch': 2.0}\n",
      "{'loss': 2.4237, 'grad_norm': 0.6307597160339355, 'learning_rate': 0.0002, 'epoch': 3.0}\n",
      "{'loss': 2.2744, 'grad_norm': 0.5859875679016113, 'learning_rate': 0.0002, 'epoch': 4.0}\n",
      "{'loss': 2.1344, 'grad_norm': 0.6527044773101807, 'learning_rate': 0.0002, 'epoch': 5.0}\n",
      "{'loss': 1.9897, 'grad_norm': 0.6430408954620361, 'learning_rate': 0.0002, 'epoch': 6.0}\n",
      "{'loss': 1.8306, 'grad_norm': 0.8425390124320984, 'learning_rate': 0.0002, 'epoch': 7.0}\n",
      "{'loss': 1.6514, 'grad_norm': 0.9498087167739868, 'learning_rate': 0.0002, 'epoch': 8.0}\n",
      "{'loss': 1.446, 'grad_norm': 1.052816390991211, 'learning_rate': 0.0002, 'epoch': 9.0}\n",
      "{'loss': 1.2292, 'grad_norm': 1.1749199628829956, 'learning_rate': 0.0002, 'epoch': 10.0}\n",
      "{'train_runtime': 13.9731, 'train_samples_per_second': 0.716, 'train_steps_per_second': 0.716, 'train_loss': 2.022618997097015, 'epoch': 10.0}\n"
     ]
    },
    {
     "data": {
      "text/plain": [
       "TrainOutput(global_step=10, training_loss=2.022618997097015, metrics={'train_runtime': 13.9731, 'train_samples_per_second': 0.716, 'train_steps_per_second': 0.716, 'total_flos': 26212013015040.0, 'train_loss': 2.022618997097015, 'epoch': 10.0})"
      ]
     },
     "execution_count": 15,
     "metadata": {},
     "output_type": "execute_result"
    }
   ],
   "source": [
    "trainer.train()"
   ]
  },
  {
   "cell_type": "code",
   "execution_count": 30,
   "metadata": {},
   "outputs": [
    {
     "data": {
      "text/plain": [
       "'피타고라스의 정리는 두 직각 삼각형의 빗변의 제곱은 그들의 대응하는 변의 제곱의 합과 같다.assistant\\n\\n피타고라스의 정리는 두 직각 삼각형의 빗변의 제곱은 그들의 대응하는 변의 제곱의 합과 같다.assistant'"
      ]
     },
     "execution_count": 30,
     "metadata": {},
     "output_type": "execute_result"
    }
   ],
   "source": [
    "def generate_response(prompt, model):\n",
    "    messages = [\n",
    "        {\"role\": \"system\", \"content\": \"친절한 챗봇으로서 상대방의 요청에 최대한 자세하고 친절하게 답하자. 모든 대답은 한국어(Korean)으로 대답해줘.\"},\n",
    "        {\"role\": \"user\", \"content\": f\"{prompt}\"},\n",
    "    ]\n",
    "    \n",
    "    input_ids = tokenizer.apply_chat_template(\n",
    "        messages,\n",
    "        add_generation_prompt=True,\n",
    "        return_tensors=\"pt\"\n",
    "    ).to(model.device)\n",
    "\n",
    "    terminators = [\n",
    "        tokenizer.eos_token_id,\n",
    "        tokenizer.convert_tokens_to_ids(\"<|eot_id|>\")\n",
    "    ]\n",
    "\n",
    "    outputs = model.generate(\n",
    "        input_ids,\n",
    "        max_new_tokens=512,\n",
    "        eos_token_id=terminators,\n",
    "        do_sample=True,\n",
    "        temperature=0.1,\n",
    "        top_p=0.9,\n",
    "    )\n",
    "\n",
    "    response = outputs[0][input_ids.shape[-1]:]\n",
    "    return tokenizer.decode(response, skip_special_tokens=True)\n",
    "\n",
    "\n",
    "instruction = \"피타고라스의 정리에 대해 알려줘\"\n",
    "\n",
    "generate_response(instruction, model)"
   ]
  },
  {
   "cell_type": "code",
   "execution_count": 17,
   "metadata": {},
   "outputs": [
    {
     "name": "stderr",
     "output_type": "stream",
     "text": [
      "c:\\Users\\Gamzadole\\anaconda3\\envs\\tf\\lib\\site-packages\\huggingface_hub\\file_download.py:1132: FutureWarning: `resume_download` is deprecated and will be removed in version 1.0.0. Downloads always resume when possible. If you want to force a new download, use `force_download=True`.\n",
      "  warnings.warn(\n"
     ]
    }
   ],
   "source": [
    "FINETUNED_MODEL = \"llama3_LoRA_finetuning_test\"\n",
    "trainer.model.save_pretrained(FINETUNED_MODEL)"
   ]
  }
 ],
 "metadata": {
  "kernelspec": {
   "display_name": "tf",
   "language": "python",
   "name": "python3"
  },
  "language_info": {
   "codemirror_mode": {
    "name": "ipython",
    "version": 3
   },
   "file_extension": ".py",
   "mimetype": "text/x-python",
   "name": "python",
   "nbconvert_exporter": "python",
   "pygments_lexer": "ipython3",
   "version": "3.10.14"
  }
 },
 "nbformat": 4,
 "nbformat_minor": 2
}

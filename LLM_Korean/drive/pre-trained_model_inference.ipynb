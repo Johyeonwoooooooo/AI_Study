{
 "cells": [
  {
   "cell_type": "code",
   "execution_count": 2,
   "metadata": {},
   "outputs": [
    {
     "name": "stderr",
     "output_type": "stream",
     "text": [
      "Special tokens have been added in the vocabulary, make sure the associated word embeddings are fine-tuned or trained.\n",
      "c:\\Users\\Gamzadole\\anaconda3\\envs\\tf\\lib\\site-packages\\accelerate\\utils\\modeling.py:1384: UserWarning: Current model requires 8192 bytes of buffer for offloaded layers, which seems does not fit any GPU's remaining memory. If you are experiencing a OOM later, please consider using offload_buffers=True.\n",
      "  warnings.warn(\n"
     ]
    },
    {
     "data": {
      "application/vnd.jupyter.widget-view+json": {
       "model_id": "b6f964bbc3634323bb6f0cdb163de982",
       "version_major": 2,
       "version_minor": 0
      },
      "text/plain": [
       "Loading checkpoint shards:   0%|          | 0/6 [00:00<?, ?it/s]"
      ]
     },
     "metadata": {},
     "output_type": "display_data"
    }
   ],
   "source": [
    "import torch\n",
    "from transformers import AutoModelForCausalLM, AutoTokenizer, pipeline\n",
    "\n",
    "# GPU 사용 가능 여부 확인\n",
    "device = torch.device(\"cuda\" if torch.cuda.is_available() else \"cpu\")\n",
    "\n",
    "# GPU 메모리 캐시 비우기\n",
    "torch.cuda.empty_cache()\n",
    "\n",
    "# 모델과 토크나이저 로드\n",
    "model_name = \"beomi/Llama-3-KoEn-8B\"\n",
    "tokenizer = AutoTokenizer.from_pretrained(model_name)\n",
    "\n",
    "# 모델 로드 시 max_memory 옵션 사용\n",
    "max_memory = {0: \"8GB\"}  # GPU 0에 최대 6GB 메모리 사용을 설정\n",
    "\n",
    "model = AutoModelForCausalLM.from_pretrained(model_name, device_map=\"auto\")\n",
    "\n",
    "# 파이프라인 생성\n",
    "pipe = pipeline(\"text-generation\", model=model, tokenizer=tokenizer)\n",
    "\n",
    "messages = [\"3+4의 계산결과가 뭐야?\", \"1184 * 123의 결과는?\", \"explain about Pythagorean theorem\", \"how to get A+ grade\"]\n",
    "\n",
    "print(\"모델 빌드 완료\")\n",
    "\n",
    "# 메시지에서 텍스트 내용을 직접 입력\n",
    "result = pipe(messages[0][\"content\"], max_length=50, num_return_sequences=1)\n",
    "print(\"생성 시작\")\n",
    "\n",
    "print(result)\n"
   ]
  },
  {
   "cell_type": "code",
   "execution_count": 1,
   "metadata": {},
   "outputs": [
    {
     "name": "stdout",
     "output_type": "stream",
     "text": [
      "Model build...\n"
     ]
    },
    {
     "data": {
      "application/vnd.jupyter.widget-view+json": {
       "model_id": "ad06b3b3d7a4476286716409bb5764fc",
       "version_major": 2,
       "version_minor": 0
      },
      "text/plain": [
       "Loading checkpoint shards:   0%|          | 0/6 [00:00<?, ?it/s]"
      ]
     },
     "metadata": {},
     "output_type": "display_data"
    },
    {
     "name": "stderr",
     "output_type": "stream",
     "text": [
      "Special tokens have been added in the vocabulary, make sure the associated word embeddings are fine-tuned or trained.\n"
     ]
    },
    {
     "name": "stdout",
     "output_type": "stream",
     "text": [
      "Model build complete\n",
      "Generating text...\n",
      "Result:\n",
      "[[{'generated_text': '3+4의 계산결과가 뭐야? 3+4=7이잖아. 3+4=7이면 3+4=7이잖아. 3+4=7이면 3+4=7이잖아. 3+4=7이면 3+4=7이잖아. 3+4=7이면 3+4=7이잖아. 3+4=7'}], [{'generated_text': '1184 * 123의 결과는? 1. 147, 2. 148, 3. 149, 4. 150 정답 ③ * 1m2의 넓이를 가진 정사각형의 둘레는? 1. 4m, 2. 6m, 3. 8m, 4. 10m 정답 ② * 1m2의 넓이를 가진 정사각형'}], [{'generated_text': 'explain about Pythagorean theorem, and the Pythagorean triplets. I also taught them about the Pythagorean Theorem and how it is used in real life. I also taught them about the Pythagorean triplets and how they are used in real life. I also taught them about the Pythagorean Theorem and how it is used in real life. I also taught them about the Pythagorean triplets and how they are used in real life. I also taught them about'}], [{'generated_text': 'how to get A+ grade with essay writing service reviews\\nhow to write a good essay - how to write a good essay fast\\nhow to write a good essay fast - how to write a good essay fast\\nhow to write a good essay fast - how to write a good essay fast\\nhow to write a good essay fast - how to write a good essay fast\\nhow to write a good essay fast - how to write a good essay fast\\nhow to write a good essay fast - how'}]]\n"
     ]
    }
   ],
   "source": [
    "import torch\n",
    "from transformers import AutoModelForCausalLM, AutoTokenizer, pipeline\n",
    "\n",
    "messages = [\"3+4의 계산결과가 뭐야?\", \"1184 * 123의 결과는?\", \"explain about Pythagorean theorem\", \"how to get A+ grade\"]\n",
    "\n",
    "print(\"Model build...\")\n",
    "# pipe = pipeline(\"text-generation\", model=\"beomi/Llama-3-KoEn-8B\", tokenizer=tokenizer, device=0 if torch.cuda.is_available() else -1)\n",
    "pipe = pipeline(\"text-generation\", model=\"beomi/Llama-3-KoEn-8B\")\n",
    "print(\"Model build complete\")\n",
    "\n",
    "print(\"Generating text...\")\n",
    "result = pipe(messages, max_length=100, truncation=True)\n",
    "\n",
    "print(\"Result:\")\n",
    "print(result)\n"
   ]
  },
  {
   "cell_type": "code",
   "execution_count": null,
   "metadata": {},
   "outputs": [],
   "source": []
  }
 ],
 "metadata": {
  "kernelspec": {
   "display_name": "tf",
   "language": "python",
   "name": "python3"
  },
  "language_info": {
   "codemirror_mode": {
    "name": "ipython",
    "version": 3
   },
   "file_extension": ".py",
   "mimetype": "text/x-python",
   "name": "python",
   "nbconvert_exporter": "python",
   "pygments_lexer": "ipython3",
   "version": "3.10.14"
  }
 },
 "nbformat": 4,
 "nbformat_minor": 2
}

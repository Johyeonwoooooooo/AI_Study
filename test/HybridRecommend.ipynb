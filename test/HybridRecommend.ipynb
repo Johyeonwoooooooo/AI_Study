{
 "cells": [
  {
   "cell_type": "code",
   "execution_count": 11,
   "metadata": {},
   "outputs": [
    {
     "name": "stdout",
     "output_type": "stream",
     "text": [
      "   User ID  Product ID Product Name   Brand         Category  Price    Rating  \\\n",
      "0       19           1        Dress  Adidas    Men's Fashion     40  1.043159   \n",
      "1       97           2        Shoes     H&M  Women's Fashion     82  4.026416   \n",
      "2       25           3        Dress  Adidas  Women's Fashion     44  3.337938   \n",
      "3       57           4        Shoes    Zara    Men's Fashion     23  1.049523   \n",
      "4       79           5      T-shirt  Adidas    Men's Fashion     79  4.302773   \n",
      "\n",
      "    Color Size  \n",
      "0   Black   XL  \n",
      "1   Black    L  \n",
      "2  Yellow   XL  \n",
      "3   White    S  \n",
      "4   Black    M  \n"
     ]
    }
   ],
   "source": [
    "import pandas as pd\n",
    "data = pd.read_csv(\"fashion_products.csv\")\n",
    "print(data.head())"
   ]
  },
  {
   "cell_type": "markdown",
   "metadata": {},
   "source": [
    "pip install numpy cython\n",
    "\n",
    "git clone https://github.com/NicolasHug/surprise.git\n",
    "\n",
    "cd surprise\n",
    "\n",
    "python setup.py install"
   ]
  },
  {
   "cell_type": "code",
   "execution_count": 12,
   "metadata": {},
   "outputs": [],
   "source": [
    "from surprise import Dataset, Reader, SVD\n",
    "from sklearn.feature_extraction.text import TfidfVectorizer\n",
    "from sklearn.metrics.pairwise import linear_kernel"
   ]
  },
  {
   "cell_type": "code",
   "execution_count": 13,
   "metadata": {},
   "outputs": [
    {
     "name": "stdout",
     "output_type": "stream",
     "text": [
      "Hybrid Recommendations for User 6 based on Product 11:\n",
      "1. Product ID: 1733\n",
      "1. Product ID: 1733\n",
      "2. Product ID: 999\n",
      "2. Product ID: 999\n",
      "3. Product ID: 1513\n",
      "3. Product ID: 1513\n",
      "4. Product ID: 1417\n",
      "4. Product ID: 1417\n",
      "5. Product ID: 1067\n",
      "5. Product ID: 1067\n",
      "6. Product ID: 76\n",
      "6. Product ID: 76\n",
      "7. Product ID: 942\n",
      "7. Product ID: 942\n",
      "8. Product ID: 407\n",
      "8. Product ID: 407\n",
      "9. Product ID: 1018\n",
      "9. Product ID: 1018\n",
      "10. Product ID: 956\n",
      "10. Product ID: 956\n"
     ]
    },
    {
     "name": "stderr",
     "output_type": "stream",
     "text": [
      "C:\\Users\\Gamzadole\\AppData\\Local\\Temp\\ipykernel_8908\\352874878.py:3: SettingWithCopyWarning: \n",
      "A value is trying to be set on a copy of a slice from a DataFrame.\n",
      "Try using .loc[row_indexer,col_indexer] = value instead\n",
      "\n",
      "See the caveats in the documentation: https://pandas.pydata.org/pandas-docs/stable/user_guide/indexing.html#returning-a-view-versus-a-copy\n",
      "  content_df['Content'] = content_df.apply(lambda row: ' '.join(row.dropna().astype(str)), axis=1)\n"
     ]
    }
   ],
   "source": [
    "content_df = data[['Product ID', 'Product Name', 'Brand', \n",
    "                   'Category', 'Color', 'Size']]\n",
    "content_df['Content'] = content_df.apply(lambda row: ' '.join(row.dropna().astype(str)), axis=1)\n",
    "\n",
    "# Use TF-IDF vectorizer to convert content into a matrix of TF-IDF features\n",
    "tfidf_vectorizer = TfidfVectorizer()\n",
    "content_matrix = tfidf_vectorizer.fit_transform(content_df['Content'])\n",
    "\n",
    "content_similarity = linear_kernel(content_matrix, content_matrix)\n",
    "\n",
    "reader = Reader(rating_scale=(1, 5))\n",
    "data = Dataset.load_from_df(data[['User ID', \n",
    "                                  'Product ID', \n",
    "                                  'Rating']], reader)\n",
    "\n",
    "def get_content_based_recommendations(product_id, top_n):\n",
    "    index = content_df[content_df['Product ID'] == product_id].index[0]\n",
    "    similarity_scores = content_similarity[index]\n",
    "    similar_indices = similarity_scores.argsort()[::-1][1:top_n + 1]\n",
    "    recommendations = content_df.loc[similar_indices, 'Product ID'].values\n",
    "    return recommendations\n",
    "\n",
    "algo = SVD()\n",
    "trainset = data.build_full_trainset()\n",
    "algo.fit(trainset)\n",
    "\n",
    "def get_collaborative_filtering_recommendations(user_id, top_n):\n",
    "    testset = trainset.build_anti_testset()\n",
    "    testset = filter(lambda x: x[0] == user_id, testset)\n",
    "    predictions = algo.test(testset)\n",
    "    predictions.sort(key=lambda x: x.est, reverse=True)\n",
    "    recommendations = [prediction.iid for prediction in predictions[:top_n]]\n",
    "    return recommendations\n",
    "\n",
    "def get_hybrid_recommendations(user_id, product_id, top_n):\n",
    "    content_based_recommendations = get_content_based_recommendations(product_id, top_n)\n",
    "    collaborative_filtering_recommendations = get_collaborative_filtering_recommendations(user_id, top_n)\n",
    "    hybrid_recommendations = list(set(content_based_recommendations + collaborative_filtering_recommendations))\n",
    "    return hybrid_recommendations[:top_n]\n",
    "\n",
    "user_id = 6\n",
    "product_id = 11\n",
    "top_n = 10\n",
    "recommendations = get_hybrid_recommendations(user_id, product_id, top_n)\n",
    "\n",
    "print(f\"Hybrid Recommendations for User {user_id} based on Product {product_id}:\")\n",
    "for i, recommendation in enumerate(recommendations):\n",
    "    print(f\"{i + 1}. Product ID: {recommendation}\")\n",
    "    print(f\"{i + 1}. Product ID: {recommendation}\")"
   ]
  },
  {
   "cell_type": "code",
   "execution_count": null,
   "metadata": {},
   "outputs": [],
   "source": []
  }
 ],
 "metadata": {
  "kernelspec": {
   "display_name": "Python 3",
   "language": "python",
   "name": "python3"
  },
  "language_info": {
   "codemirror_mode": {
    "name": "ipython",
    "version": 3
   },
   "file_extension": ".py",
   "mimetype": "text/x-python",
   "name": "python",
   "nbconvert_exporter": "python",
   "pygments_lexer": "ipython3",
   "version": "3.12.2"
  }
 },
 "nbformat": 4,
 "nbformat_minor": 2
}

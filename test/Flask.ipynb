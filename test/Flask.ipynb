{
 "cells": [
  {
   "cell_type": "code",
   "execution_count": 2,
   "metadata": {},
   "outputs": [
    {
     "name": "stdout",
     "output_type": "stream",
     "text": [
      " * Serving Flask app '__main__'\n",
      " * Debug mode: off\n"
     ]
    },
    {
     "name": "stderr",
     "output_type": "stream",
     "text": [
      "WARNING: This is a development server. Do not use it in a production deployment. Use a production WSGI server instead.\n",
      " * Running on http://127.0.0.1:5000\n",
      "Press CTRL+C to quit\n",
      "127.0.0.1 - - [06/Apr/2024 23:32:00] \"GET / HTTP/1.1\" 404 -\n",
      "127.0.0.1 - - [06/Apr/2024 23:32:10] \"GET /tostring HTTP/1.1\" 404 -\n",
      "127.0.0.1 - - [06/Apr/2024 23:32:19] \"GET /tospring HTTP/1.1\" 200 -\n"
     ]
    }
   ],
   "source": [
    "from flask import Flask, jsonify\n",
    "import requests\n",
    "\n",
    "app = Flask(__name__)\n",
    "\n",
    "@app.route('/send-data')\n",
    "def send_data():\n",
    "    # JSON 데이터 생성\n",
    "    data = {\"name\": \"test\"}\n",
    "\n",
    "    # Spring 서버 URL\n",
    "    spring_url = \"http://localhost:8080/receive-data\"\n",
    "\n",
    "    # JSON 데이터를 Spring 서버로 전송\n",
    "    response = requests.post(spring_url, json=data)\n",
    "\n",
    "    # Spring 서버로부터 받은 응답을 출력\n",
    "    print(response.json())\n",
    "    return \"Data sent successfully\"\n",
    "\n",
    "if __name__ == '__main__':\n",
    "    app.run(debug=True)"
   ]
  },
  {
   "cell_type": "code",
   "execution_count": null,
   "metadata": {},
   "outputs": [],
   "source": []
  }
 ],
 "metadata": {
  "kernelspec": {
   "display_name": "Python 3",
   "language": "python",
   "name": "python3"
  },
  "language_info": {
   "codemirror_mode": {
    "name": "ipython",
    "version": 3
   },
   "file_extension": ".py",
   "mimetype": "text/x-python",
   "name": "python",
   "nbconvert_exporter": "python",
   "pygments_lexer": "ipython3",
   "version": "3.12.2"
  }
 },
 "nbformat": 4,
 "nbformat_minor": 2
}

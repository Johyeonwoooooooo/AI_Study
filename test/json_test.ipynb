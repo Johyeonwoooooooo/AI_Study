{
 "cells": [
  {
   "cell_type": "code",
   "execution_count": 7,
   "metadata": {},
   "outputs": [
    {
     "name": "stdout",
     "output_type": "stream",
     "text": [
      "{\"K5\": {\"price\": \"5000\", \"year\": \"2015\"}, \"Avante\": {\"price\": \"3000\", \"year\": \"2014\"}}\n",
      "['5000', '3000']\n"
     ]
    }
   ],
   "source": [
    "import json\n",
    "\n",
    "with open('data.json', 'r') as f:\n",
    "\n",
    "    json_data = json.load(f)\n",
    "\n",
    "print(json.dumps(json_data))\n",
    "\n",
    "prices = [json_data[key][\"price\"] for key in json_data]\n",
    "print(prices)"
   ]
  }
 ],
 "metadata": {
  "kernelspec": {
   "display_name": "Python 3",
   "language": "python",
   "name": "python3"
  },
  "language_info": {
   "codemirror_mode": {
    "name": "ipython",
    "version": 3
   },
   "file_extension": ".py",
   "mimetype": "text/x-python",
   "name": "python",
   "nbconvert_exporter": "python",
   "pygments_lexer": "ipython3",
   "version": "3.12.0"
  }
 },
 "nbformat": 4,
 "nbformat_minor": 2
}

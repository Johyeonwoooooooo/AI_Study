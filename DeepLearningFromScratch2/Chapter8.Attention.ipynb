{
 "cells": [
  {
   "cell_type": "markdown",
   "metadata": {},
   "source": [
    "# Chapter 8 : Attention"
   ]
  },
  {
   "cell_type": "code",
   "execution_count": 2,
   "metadata": {},
   "outputs": [
    {
     "name": "stdout",
     "output_type": "stream",
     "text": [
      "====================\n",
      "(5, 4)\n",
      "[[0.8  0.8  0.8  0.8 ]\n",
      " [0.1  0.1  0.1  0.1 ]\n",
      " [0.03 0.03 0.03 0.03]\n",
      " [0.05 0.05 0.05 0.05]\n",
      " [0.02 0.02 0.02 0.02]]\n",
      "====================\n",
      "(5, 4)\n",
      "[[-0.54254811 -0.20333065  1.30408333 -0.09887616]\n",
      " [-0.00294172  0.04743715 -0.11080295 -0.16911239]\n",
      " [-0.04375525  0.04301256  0.0074144  -0.02725987]\n",
      " [ 0.00325344 -0.00586551 -0.00629445  0.00202656]\n",
      " [-0.01432782  0.00278698 -0.00566155 -0.00885147]]\n",
      "====================\n",
      "(4,)\n",
      "[-0.60031946 -0.11595948  1.18873879 -0.30207333]\n"
     ]
    }
   ],
   "source": [
    "import numpy as np \n",
    "\n",
    "T, H = 5, 4\n",
    "hs = np.random.randn(T, H)\n",
    "a = np.array([0.8, 0.1, 0.03, 0.05, 0.02])\n",
    "\n",
    "ar = a.reshape(5, 1).repeat(4, axis=1)\n",
    "print('=' * 20)\n",
    "print(ar.shape)\n",
    "print(ar)\n",
    "\n",
    "t = hs * ar\n",
    "print('=' * 20)\n",
    "print(t.shape)\n",
    "print(t)\n",
    "\n",
    "c = np.sum(t, axis=0)\n",
    "print('=' * 20)\n",
    "print(c.shape)\n",
    "print(c)"
   ]
  },
  {
   "cell_type": "code",
   "execution_count": null,
   "metadata": {},
   "outputs": [],
   "source": []
  }
 ],
 "metadata": {
  "kernelspec": {
   "display_name": "tf",
   "language": "python",
   "name": "python3"
  },
  "language_info": {
   "codemirror_mode": {
    "name": "ipython",
    "version": 3
   },
   "file_extension": ".py",
   "mimetype": "text/x-python",
   "name": "python",
   "nbconvert_exporter": "python",
   "pygments_lexer": "ipython3",
   "version": "3.10.14"
  }
 },
 "nbformat": 4,
 "nbformat_minor": 2
}
